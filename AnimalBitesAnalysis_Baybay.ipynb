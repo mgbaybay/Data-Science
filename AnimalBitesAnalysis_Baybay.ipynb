{
 "cells": [
  {
   "cell_type": "markdown",
   "id": "93c69646",
   "metadata": {},
   "source": [
    "# <center>  Animal Bites Analysis <center>"
   ]
  },
  {
   "cell_type": "markdown",
   "id": "61892064",
   "metadata": {},
   "source": [
    "From 2007 to 2017, the Department of Health reported an increasing number of Animal Bites in the country. Because of this, I have chosen a dataset containing animal bites record. Although the data gathered here are from Kentucky, USA, I think that the information would still be relevant especially for pet (dog) owners. \n",
    "\n",
    "(source: https://doh.gov.ph/national-rabies-prevention-and-control-program)"
   ]
  },
  {
   "cell_type": "markdown",
   "id": "50ae9679",
   "metadata": {},
   "source": [
    "### Key Insights\n",
    "1. Which animals are most likely to bite humans?\n",
    "2. What are the most aggressive breed of dogs? \n",
    "3. Which gender of animals are mostly likely to bite humans?"
   ]
  },
  {
   "cell_type": "markdown",
   "id": "d0029168",
   "metadata": {},
   "source": [
    "### I. Importing and setting up of data\n",
    "\n",
    "For the first step, I set the variables up and imported the dataset."
   ]
  },
  {
   "cell_type": "code",
   "execution_count": 1,
   "id": "3625468a",
   "metadata": {},
   "outputs": [],
   "source": [
    "import numpy  as np\n",
    "import pandas as pd \n",
    "import seaborn as sns \n",
    "import matplotlib.pyplot as plt\n",
    "import matplotlib.patches as patches"
   ]
  },
  {
   "cell_type": "code",
   "execution_count": 2,
   "id": "37c23d74",
   "metadata": {},
   "outputs": [],
   "source": [
    "import os\n",
    "import csv\n",
    "\n",
    "os.chdir(\"C:\\\\Users\\\\maegr\\Documents\\Maymay\\DataScience\\modules\")\n",
    "\n",
    "with open(\"Health_AnimalBites.csv\", \"r\") as animal_data:\n",
    "    animal_data = pd.read_csv('Health_AnimalBites.csv')"
   ]
  },
  {
   "cell_type": "markdown",
   "id": "38f4f69d",
   "metadata": {},
   "source": [
    "### II. Analyzing the columns and initial data description\n",
    "After importing the dataset, I checked the columns included and the initial description of the data. This is for me to identify which information is needed and which should be removed."
   ]
  },
  {
   "cell_type": "code",
   "execution_count": 3,
   "id": "a6955942",
   "metadata": {},
   "outputs": [
    {
     "data": {
      "text/plain": [
       "Index(['bite_date', 'SpeciesIDDesc', 'BreedIDDesc', 'GenderIDDesc', 'color',\n",
       "       'vaccination_yrs', 'vaccination_date', 'victim_zip', 'AdvIssuedYNDesc',\n",
       "       'WhereBittenIDDesc', 'quarantine_date', 'DispositionIDDesc',\n",
       "       'head_sent_date', 'release_date', 'ResultsIDDesc'],\n",
       "      dtype='object')"
      ]
     },
     "execution_count": 3,
     "metadata": {},
     "output_type": "execute_result"
    }
   ],
   "source": [
    "animal_data.columns "
   ]
  },
  {
   "cell_type": "markdown",
   "id": "4bed8320",
   "metadata": {},
   "source": [
    "#### Analysis:\n",
    "The dataset contains the following information: \n",
    "\n",
    "- bite_date: The date the bite occurred\n",
    "- SpeciesIDDesc: The species of animal that did the biting\n",
    "- BreedIDDesc: Breed (if known)\n",
    "- GenderIDDesc: Gender (of the animal)\n",
    "- color: color of the animal\n",
    "- vaccination_yrs: how many years had passed since the last vaccination\n",
    "- vaccination_date: the date of the last vaccination\n",
    "- victim_zip: the zipcode of the victim\n",
    "- AdvIssuedYNDesc: whether advice was issued\n",
    "- WhereBittenIDDesc: Where on the body the victim was bitten\n",
    "- quarantine_date: whether the animal was quarantined\n",
    "- DispositionIDDesc: whether the animal was released from quarantine\n",
    "- headsentdate: the date the animal’s head was sent to the lab\n",
    "- release_date: the date the animal was released\n",
    "- ResultsIDDesc: results from lab tests (for rabies)"
   ]
  },
  {
   "cell_type": "code",
   "execution_count": 4,
   "id": "d1335c09",
   "metadata": {},
   "outputs": [
    {
     "data": {
      "text/html": [
       "<div>\n",
       "<style scoped>\n",
       "    .dataframe tbody tr th:only-of-type {\n",
       "        vertical-align: middle;\n",
       "    }\n",
       "\n",
       "    .dataframe tbody tr th {\n",
       "        vertical-align: top;\n",
       "    }\n",
       "\n",
       "    .dataframe thead th {\n",
       "        text-align: right;\n",
       "    }\n",
       "</style>\n",
       "<table border=\"1\" class=\"dataframe\">\n",
       "  <thead>\n",
       "    <tr style=\"text-align: right;\">\n",
       "      <th></th>\n",
       "      <th>vaccination_yrs</th>\n",
       "    </tr>\n",
       "  </thead>\n",
       "  <tbody>\n",
       "    <tr>\n",
       "      <th>count</th>\n",
       "      <td>3738.000000</td>\n",
       "    </tr>\n",
       "    <tr>\n",
       "      <th>mean</th>\n",
       "      <td>1.452113</td>\n",
       "    </tr>\n",
       "    <tr>\n",
       "      <th>std</th>\n",
       "      <td>0.848416</td>\n",
       "    </tr>\n",
       "    <tr>\n",
       "      <th>min</th>\n",
       "      <td>1.000000</td>\n",
       "    </tr>\n",
       "    <tr>\n",
       "      <th>25%</th>\n",
       "      <td>1.000000</td>\n",
       "    </tr>\n",
       "    <tr>\n",
       "      <th>50%</th>\n",
       "      <td>1.000000</td>\n",
       "    </tr>\n",
       "    <tr>\n",
       "      <th>75%</th>\n",
       "      <td>1.000000</td>\n",
       "    </tr>\n",
       "    <tr>\n",
       "      <th>max</th>\n",
       "      <td>11.000000</td>\n",
       "    </tr>\n",
       "  </tbody>\n",
       "</table>\n",
       "</div>"
      ],
      "text/plain": [
       "       vaccination_yrs\n",
       "count      3738.000000\n",
       "mean          1.452113\n",
       "std           0.848416\n",
       "min           1.000000\n",
       "25%           1.000000\n",
       "50%           1.000000\n",
       "75%           1.000000\n",
       "max          11.000000"
      ]
     },
     "execution_count": 4,
     "metadata": {},
     "output_type": "execute_result"
    }
   ],
   "source": [
    "animal_data.describe()"
   ]
  },
  {
   "cell_type": "markdown",
   "id": "f7244b00",
   "metadata": {},
   "source": [
    "#### Conclusions:\n",
    "1. Based on the output, there are 3738 records on this dataset. \n",
    "2. The average number of years that passed by since the last vaccination is around 1.45 years. \n",
    "3. The maximum number of years that passed by since the last vaccination is 11 years, while the minimum number of year is 1 year only."
   ]
  },
  {
   "cell_type": "markdown",
   "id": "ee9ed7a5",
   "metadata": {},
   "source": [
    "### II. Transforming the dataset\n",
    "I've decided to keep the important information that would answer my key insights and remove the unnecessary information from the dataset"
   ]
  },
  {
   "cell_type": "code",
   "execution_count": 5,
   "id": "a37e78cb",
   "metadata": {},
   "outputs": [
    {
     "data": {
      "text/html": [
       "<div>\n",
       "<style scoped>\n",
       "    .dataframe tbody tr th:only-of-type {\n",
       "        vertical-align: middle;\n",
       "    }\n",
       "\n",
       "    .dataframe tbody tr th {\n",
       "        vertical-align: top;\n",
       "    }\n",
       "\n",
       "    .dataframe thead th {\n",
       "        text-align: right;\n",
       "    }\n",
       "</style>\n",
       "<table border=\"1\" class=\"dataframe\">\n",
       "  <thead>\n",
       "    <tr style=\"text-align: right;\">\n",
       "      <th></th>\n",
       "      <th>bite_date</th>\n",
       "      <th>SpeciesIDDesc</th>\n",
       "      <th>BreedIDDesc</th>\n",
       "      <th>GenderIDDesc</th>\n",
       "      <th>color</th>\n",
       "      <th>vaccination_yrs</th>\n",
       "      <th>vaccination_date</th>\n",
       "      <th>victim_zip</th>\n",
       "      <th>AdvIssuedYNDesc</th>\n",
       "      <th>WhereBittenIDDesc</th>\n",
       "      <th>quarantine_date</th>\n",
       "      <th>DispositionIDDesc</th>\n",
       "      <th>head_sent_date</th>\n",
       "      <th>release_date</th>\n",
       "      <th>ResultsIDDesc</th>\n",
       "    </tr>\n",
       "  </thead>\n",
       "  <tbody>\n",
       "    <tr>\n",
       "      <th>0</th>\n",
       "      <td>1985-05-05 00:00:00</td>\n",
       "      <td>DOG</td>\n",
       "      <td>NaN</td>\n",
       "      <td>FEMALE</td>\n",
       "      <td>LIG. BROWN</td>\n",
       "      <td>1.0</td>\n",
       "      <td>1985-06-20 00:00:00</td>\n",
       "      <td>40229</td>\n",
       "      <td>NO</td>\n",
       "      <td>BODY</td>\n",
       "      <td>1985-05-05 00:00:00</td>\n",
       "      <td>UNKNOWN</td>\n",
       "      <td>NaN</td>\n",
       "      <td>NaN</td>\n",
       "      <td>UNKNOWN</td>\n",
       "    </tr>\n",
       "    <tr>\n",
       "      <th>1</th>\n",
       "      <td>1986-02-12 00:00:00</td>\n",
       "      <td>DOG</td>\n",
       "      <td>NaN</td>\n",
       "      <td>UNKNOWN</td>\n",
       "      <td>BRO &amp; BLA</td>\n",
       "      <td>NaN</td>\n",
       "      <td>NaN</td>\n",
       "      <td>40218</td>\n",
       "      <td>NO</td>\n",
       "      <td>BODY</td>\n",
       "      <td>1986-02-12 00:00:00</td>\n",
       "      <td>UNKNOWN</td>\n",
       "      <td>NaN</td>\n",
       "      <td>NaN</td>\n",
       "      <td>UNKNOWN</td>\n",
       "    </tr>\n",
       "    <tr>\n",
       "      <th>2</th>\n",
       "      <td>1987-05-07 00:00:00</td>\n",
       "      <td>DOG</td>\n",
       "      <td>NaN</td>\n",
       "      <td>UNKNOWN</td>\n",
       "      <td>NaN</td>\n",
       "      <td>NaN</td>\n",
       "      <td>NaN</td>\n",
       "      <td>40219</td>\n",
       "      <td>NO</td>\n",
       "      <td>BODY</td>\n",
       "      <td>1990-05-07 00:00:00</td>\n",
       "      <td>UNKNOWN</td>\n",
       "      <td>NaN</td>\n",
       "      <td>NaN</td>\n",
       "      <td>UNKNOWN</td>\n",
       "    </tr>\n",
       "    <tr>\n",
       "      <th>3</th>\n",
       "      <td>1988-10-02 00:00:00</td>\n",
       "      <td>DOG</td>\n",
       "      <td>NaN</td>\n",
       "      <td>MALE</td>\n",
       "      <td>BLA &amp; BRO</td>\n",
       "      <td>NaN</td>\n",
       "      <td>NaN</td>\n",
       "      <td>NaN</td>\n",
       "      <td>NO</td>\n",
       "      <td>BODY</td>\n",
       "      <td>1990-10-02 00:00:00</td>\n",
       "      <td>UNKNOWN</td>\n",
       "      <td>NaN</td>\n",
       "      <td>NaN</td>\n",
       "      <td>UNKNOWN</td>\n",
       "    </tr>\n",
       "    <tr>\n",
       "      <th>4</th>\n",
       "      <td>1989-08-29 00:00:00</td>\n",
       "      <td>DOG</td>\n",
       "      <td>NaN</td>\n",
       "      <td>FEMALE</td>\n",
       "      <td>BLK-WHT</td>\n",
       "      <td>NaN</td>\n",
       "      <td>NaN</td>\n",
       "      <td>NaN</td>\n",
       "      <td>NO</td>\n",
       "      <td>BODY</td>\n",
       "      <td>NaN</td>\n",
       "      <td>UNKNOWN</td>\n",
       "      <td>NaN</td>\n",
       "      <td>NaN</td>\n",
       "      <td>UNKNOWN</td>\n",
       "    </tr>\n",
       "  </tbody>\n",
       "</table>\n",
       "</div>"
      ],
      "text/plain": [
       "             bite_date SpeciesIDDesc BreedIDDesc GenderIDDesc       color  \\\n",
       "0  1985-05-05 00:00:00           DOG         NaN       FEMALE  LIG. BROWN   \n",
       "1  1986-02-12 00:00:00           DOG         NaN      UNKNOWN   BRO & BLA   \n",
       "2  1987-05-07 00:00:00           DOG         NaN      UNKNOWN         NaN   \n",
       "3  1988-10-02 00:00:00           DOG         NaN         MALE   BLA & BRO   \n",
       "4  1989-08-29 00:00:00           DOG         NaN       FEMALE     BLK-WHT   \n",
       "\n",
       "   vaccination_yrs     vaccination_date victim_zip AdvIssuedYNDesc  \\\n",
       "0              1.0  1985-06-20 00:00:00      40229              NO   \n",
       "1              NaN                  NaN      40218              NO   \n",
       "2              NaN                  NaN      40219              NO   \n",
       "3              NaN                  NaN        NaN              NO   \n",
       "4              NaN                  NaN        NaN              NO   \n",
       "\n",
       "  WhereBittenIDDesc      quarantine_date DispositionIDDesc head_sent_date  \\\n",
       "0              BODY  1985-05-05 00:00:00           UNKNOWN            NaN   \n",
       "1              BODY  1986-02-12 00:00:00           UNKNOWN            NaN   \n",
       "2              BODY  1990-05-07 00:00:00           UNKNOWN            NaN   \n",
       "3              BODY  1990-10-02 00:00:00           UNKNOWN            NaN   \n",
       "4              BODY                  NaN           UNKNOWN            NaN   \n",
       "\n",
       "  release_date ResultsIDDesc  \n",
       "0          NaN       UNKNOWN  \n",
       "1          NaN       UNKNOWN  \n",
       "2          NaN       UNKNOWN  \n",
       "3          NaN       UNKNOWN  \n",
       "4          NaN       UNKNOWN  "
      ]
     },
     "execution_count": 5,
     "metadata": {},
     "output_type": "execute_result"
    }
   ],
   "source": [
    "animal_data.head()"
   ]
  },
  {
   "cell_type": "code",
   "execution_count": 6,
   "id": "a26c72b6",
   "metadata": {},
   "outputs": [],
   "source": [
    "del animal_data[\"color\"]"
   ]
  },
  {
   "cell_type": "code",
   "execution_count": 7,
   "id": "25fe7ad0",
   "metadata": {},
   "outputs": [],
   "source": [
    "del animal_data[\"vaccination_yrs\"]"
   ]
  },
  {
   "cell_type": "code",
   "execution_count": 8,
   "id": "13052bff",
   "metadata": {},
   "outputs": [],
   "source": [
    "del animal_data[\"vaccination_date\"]"
   ]
  },
  {
   "cell_type": "code",
   "execution_count": 9,
   "id": "3f950bb2",
   "metadata": {},
   "outputs": [],
   "source": [
    "del animal_data[\"AdvIssuedYNDesc\"]"
   ]
  },
  {
   "cell_type": "code",
   "execution_count": 10,
   "id": "0bc0c275",
   "metadata": {},
   "outputs": [],
   "source": [
    "del animal_data[\"quarantine_date\"]"
   ]
  },
  {
   "cell_type": "code",
   "execution_count": 11,
   "id": "c79f5525",
   "metadata": {},
   "outputs": [],
   "source": [
    "del animal_data[\"victim_zip\"]"
   ]
  },
  {
   "cell_type": "code",
   "execution_count": 12,
   "id": "065b199f",
   "metadata": {},
   "outputs": [],
   "source": [
    "del animal_data[\"DispositionIDDesc\"]"
   ]
  },
  {
   "cell_type": "code",
   "execution_count": 13,
   "id": "67026ac2",
   "metadata": {},
   "outputs": [],
   "source": [
    "del animal_data[\"release_date\"]"
   ]
  },
  {
   "cell_type": "code",
   "execution_count": 14,
   "id": "91508e14",
   "metadata": {},
   "outputs": [],
   "source": [
    "del animal_data[\"head_sent_date\"]"
   ]
  },
  {
   "cell_type": "code",
   "execution_count": 15,
   "id": "f380d889",
   "metadata": {},
   "outputs": [],
   "source": [
    "del animal_data[\"ResultsIDDesc\"]"
   ]
  },
  {
   "cell_type": "code",
   "execution_count": 16,
   "id": "ff3ea539",
   "metadata": {},
   "outputs": [
    {
     "data": {
      "text/html": [
       "<div>\n",
       "<style scoped>\n",
       "    .dataframe tbody tr th:only-of-type {\n",
       "        vertical-align: middle;\n",
       "    }\n",
       "\n",
       "    .dataframe tbody tr th {\n",
       "        vertical-align: top;\n",
       "    }\n",
       "\n",
       "    .dataframe thead th {\n",
       "        text-align: right;\n",
       "    }\n",
       "</style>\n",
       "<table border=\"1\" class=\"dataframe\">\n",
       "  <thead>\n",
       "    <tr style=\"text-align: right;\">\n",
       "      <th></th>\n",
       "      <th>bite_date</th>\n",
       "      <th>SpeciesIDDesc</th>\n",
       "      <th>BreedIDDesc</th>\n",
       "      <th>GenderIDDesc</th>\n",
       "      <th>WhereBittenIDDesc</th>\n",
       "    </tr>\n",
       "  </thead>\n",
       "  <tbody>\n",
       "    <tr>\n",
       "      <th>0</th>\n",
       "      <td>1985-05-05 00:00:00</td>\n",
       "      <td>DOG</td>\n",
       "      <td>NaN</td>\n",
       "      <td>FEMALE</td>\n",
       "      <td>BODY</td>\n",
       "    </tr>\n",
       "    <tr>\n",
       "      <th>1</th>\n",
       "      <td>1986-02-12 00:00:00</td>\n",
       "      <td>DOG</td>\n",
       "      <td>NaN</td>\n",
       "      <td>UNKNOWN</td>\n",
       "      <td>BODY</td>\n",
       "    </tr>\n",
       "    <tr>\n",
       "      <th>2</th>\n",
       "      <td>1987-05-07 00:00:00</td>\n",
       "      <td>DOG</td>\n",
       "      <td>NaN</td>\n",
       "      <td>UNKNOWN</td>\n",
       "      <td>BODY</td>\n",
       "    </tr>\n",
       "    <tr>\n",
       "      <th>3</th>\n",
       "      <td>1988-10-02 00:00:00</td>\n",
       "      <td>DOG</td>\n",
       "      <td>NaN</td>\n",
       "      <td>MALE</td>\n",
       "      <td>BODY</td>\n",
       "    </tr>\n",
       "    <tr>\n",
       "      <th>4</th>\n",
       "      <td>1989-08-29 00:00:00</td>\n",
       "      <td>DOG</td>\n",
       "      <td>NaN</td>\n",
       "      <td>FEMALE</td>\n",
       "      <td>BODY</td>\n",
       "    </tr>\n",
       "  </tbody>\n",
       "</table>\n",
       "</div>"
      ],
      "text/plain": [
       "             bite_date SpeciesIDDesc BreedIDDesc GenderIDDesc  \\\n",
       "0  1985-05-05 00:00:00           DOG         NaN       FEMALE   \n",
       "1  1986-02-12 00:00:00           DOG         NaN      UNKNOWN   \n",
       "2  1987-05-07 00:00:00           DOG         NaN      UNKNOWN   \n",
       "3  1988-10-02 00:00:00           DOG         NaN         MALE   \n",
       "4  1989-08-29 00:00:00           DOG         NaN       FEMALE   \n",
       "\n",
       "  WhereBittenIDDesc  \n",
       "0              BODY  \n",
       "1              BODY  \n",
       "2              BODY  \n",
       "3              BODY  \n",
       "4              BODY  "
      ]
     },
     "execution_count": 16,
     "metadata": {},
     "output_type": "execute_result"
    }
   ],
   "source": [
    "animal_data.head()"
   ]
  },
  {
   "cell_type": "markdown",
   "id": "30ede729",
   "metadata": {},
   "source": [
    "### III. Identifying the species and the number of bites\n",
    "The graph below shows the animal species and the number of times each species has bitten humans"
   ]
  },
  {
   "cell_type": "code",
   "execution_count": 17,
   "id": "40f8b21e",
   "metadata": {
    "scrolled": true
   },
   "outputs": [
    {
     "name": "stdout",
     "output_type": "stream",
     "text": [
      "[7029, 1568, 237, 27, 11, 3, 5, 1, 4]\n"
     ]
    },
    {
     "data": {
      "image/png": "[encoded data removed]",
      "text/plain": [
       "<Figure size 432x288 with 1 Axes>"
      ]
     },
     "metadata": {
      "needs_background": "light"
     },
     "output_type": "display_data"
    }
   ],
   "source": [
    "species = animal_data.SpeciesIDDesc\n",
    "species = species.dropna()\n",
    "speciesOfAnimal = species.unique()\n",
    "animal_list = []\n",
    "for  i in speciesOfAnimal:\n",
    "    animal_list.append(len(species[species==i]))\n",
    "ax = sns.barplot(x=speciesOfAnimal, y =animal_list)\n",
    "plt.title('Number of Species Bite')\n",
    "plt.xticks(rotation=90)\n",
    "print(animal_list)"
   ]
  },
  {
   "cell_type": "markdown",
   "id": "893194bb",
   "metadata": {},
   "source": [
    "#### Conclusions:\n",
    "1. There is a total of 8855 animal bites\n",
    "2. Among the species present, dogs have bitten humans the most, with 7029 bites\n",
    "3. Dogs are followed by cats, with around 1568 bites\n",
    "4. There is only one recorded instance of skunk biting humans"
   ]
  },
  {
   "cell_type": "markdown",
   "id": "3fa6206e",
   "metadata": {},
   "source": [
    "### IV. Most aggresive breeds\n",
    "The graph below shows the top 10 most aggressive breeds of animals"
   ]
  },
  {
   "cell_type": "code",
   "execution_count": 18,
   "id": "e6181ee0",
   "metadata": {
    "scrolled": true
   },
   "outputs": [
    {
     "name": "stdout",
     "output_type": "stream",
     "text": [
      "Index(['PIT BULL', 'GERM SHEPHERD', 'LABRADOR RETRIV', 'BOXER', 'CHICHAUHUA',\n",
      "       'SHIH TZU', 'BEAGLE', 'ROTTWEILER', 'AAUST. TERR.', 'DACHSHUND'],\n",
      "      dtype='object')\n"
     ]
    },
    {
     "data": {
      "image/png": "[encoded data removed]",
      "text/plain": [
       "<Figure size 1080x576 with 1 Axes>"
      ]
     },
     "metadata": {
      "needs_background": "light"
     },
     "output_type": "display_data"
    }
   ],
   "source": [
    "count = animal_data.BreedIDDesc.value_counts()\n",
    "plt.figure(figsize=(15,8))\n",
    "ax = sns.barplot(x=count[0:10].index,y=count[0:10])\n",
    "plt.xticks(rotation=20)\n",
    "plt.ylabel(\"Number of Bite\")\n",
    "plt.savefig('graph.png')\n",
    "\n",
    "print(count[0:10].index)"
   ]
  },
  {
   "cell_type": "markdown",
   "id": "5555440b",
   "metadata": {},
   "source": [
    "#### Conclusions:\n",
    "1. There is a total of 8855 animal bites\n",
    "2. Among the species present, dogs have bitten humans the most, with 7029 bites\n",
    "3. Dogs are followed by cats, with around 1568 bites\n",
    "4. There is only one recorded instance of skunk biting humans"
   ]
  },
  {
   "cell_type": "markdown",
   "id": "5181b1ce",
   "metadata": {},
   "source": [
    "### V. Number of bites by gender"
   ]
  },
  {
   "cell_type": "code",
   "execution_count": 19,
   "id": "603f02d5",
   "metadata": {},
   "outputs": [
    {
     "name": "stdout",
     "output_type": "stream",
     "text": [
      "MALE      3832\n",
      "FEMALE    2016\n",
      "Name: GenderIDDesc, dtype: int64\n"
     ]
    },
    {
     "data": {
      "image/png": "[encoded data removed]",
      "text/plain": [
       "<Figure size 504x576 with 1 Axes>"
      ]
     },
     "metadata": {
      "needs_background": "light"
     },
     "output_type": "display_data"
    }
   ],
   "source": [
    "gender = ['Male','Female']\n",
    "count_gender = animal_data.GenderIDDesc.value_counts()\n",
    "plt.figure(figsize= (7,8))\n",
    "x = sns.barplot(x=gender, y= count_gender[0:2])\n",
    "plt.ylabel('Number of Bite ')\n",
    "plt.xticks(rotation = 20)\n",
    "plt.title('MALE VS FEMALE')\n",
    "print(count_gender[0:2])"
   ]
  },
  {
   "cell_type": "markdown",
   "id": "c789c3a5",
   "metadata": {},
   "source": [
    "#### Conclusions:\n",
    "1. There is a total of 8855 animal bites\n",
    "2. Among the species present, dogs have bitten humans the most, with 7029 bites\n",
    "3. Dogs are followed by cats, with around 1568 bites\n",
    "4. There is only one recorded instance of skunk biting humans"
   ]
  },
  {
   "cell_type": "markdown",
   "id": "a17661e3",
   "metadata": {},
   "source": [
    "## General Conclusions\n",
    "1. Which animals are most likely to bite humans?\n",
    "According to the dataset, **dogs are most likely to bite humans**. Personally, I think it makes sense since people have domesticated dogs and have taken them as pets. Therefore, they have the most human interactions than other species. Aside from dogs, cats are also likely to bite humans. Similar to dogs, many people have cats as their pets so they also have a lot of human interactions. On the other hand, what surprised me is the number of times bats have bitten humans since they generally do not attack people.\n",
    "\n",
    "2. What are the most aggressive breed of dogs? \n",
    "The **most aggressive breed is the pitbull**, followed by german shepherd. To be honest, I think both of them are scary-looking\n",
    "![Pitbull](https://spiritdogtraining.com/wp-content/uploads/2021/01/pitbull-harness.jpg)\n",
    "![German Shepherd](https://spiritdogtraining.com/wp-content/uploads/2021/02/shepherds.jpg)\n",
    "\n",
    "3. Which gender of animals are mostly likely to bite humans? **Male** animals are most likely to bite humans than female animals. \n",
    "\n",
    "#### Others\n",
    "I think it would be interesting to also record the animal bites inflicted by snakes (since some of them are venomous), crocodiles (they have the strongest bites), monkeys, and others. However, I do hope that DOH would have a similar dataset that we could analyze in the future."
   ]
  }
 ],
 "metadata": {
  "kernelspec": {
   "display_name": "Python 3",
   "language": "python",
   "name": "python3"
  },
  "language_info": {
   "codemirror_mode": {
    "name": "ipython",
    "version": 3
   },
   "file_extension": ".py",
   "mimetype": "text/x-python",
   "name": "python",
   "nbconvert_exporter": "python",
   "pygments_lexer": "ipython3",
   "version": "3.8.8"
  }
 },
 "nbformat": 4,
 "nbformat_minor": 5
}
